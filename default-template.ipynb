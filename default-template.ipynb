{
 "metadata": {
  "name": "",
  "signature": "sha256:c63c3edfe020901ab84dc2b1245d72e01847ec9dbfaa90cdf0b49d88f9b4aacc"
 },
 "nbformat": 3,
 "nbformat_minor": 0,
 "worksheets": [
  {
   "cells": [
    {
     "cell_type": "heading",
     "level": 1,
     "metadata": {},
     "source": [
      "Your Code and Text Below"
     ]
    },
    {
     "cell_type": "code",
     "collapsed": false,
     "input": [
      "# Import statements\n",
      "import numpy as np\n",
      "import pandas as pd\n",
      "from matplotlib import pyplot as plt\n",
      "\n",
      "# ipython magics\n",
      "%matplotlib inline"
     ],
     "language": "python",
     "metadata": {},
     "outputs": [],
     "prompt_number": 2
    },
    {
     "cell_type": "code",
     "collapsed": false,
     "input": [],
     "language": "python",
     "metadata": {},
     "outputs": []
    },
    {
     "cell_type": "heading",
     "level": 2,
     "metadata": {},
     "source": [
      "Notebook Styling"
     ]
    },
    {
     "cell_type": "code",
     "collapsed": false,
     "input": [
      "import urllib\n",
      "from IPython.core.display import HTML\n",
      "\n",
      "cssurl = \"https://raw.github.com/pmagwene/ipython-notebooks/master/custom.css\"\n",
      "\n",
      "def css_styling():\n",
      "    styles = urllib.urlopen(cssurl).read()\n",
      "    return HTML(styles)\n",
      "css_styling()"
     ],
     "language": "python",
     "metadata": {},
     "outputs": [],
     "prompt_number": 4
    }
   ],
   "metadata": {}
  }
 ]
}